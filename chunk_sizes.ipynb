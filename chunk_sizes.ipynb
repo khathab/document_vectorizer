{
 "cells": [
  {
   "cell_type": "code",
   "execution_count": 99,
   "metadata": {},
   "outputs": [],
   "source": [
    "from sentence_transformers import SentenceTransformer, util\n",
    "from documentizer.pdf import extract_chunks, get_text\n",
    "import torch\n",
    "import pandas as pd\n",
    "from matplotlib import pyplot as plt"
   ]
  },
  {
   "cell_type": "code",
   "execution_count": 11,
   "metadata": {},
   "outputs": [
    {
     "name": "stdout",
     "output_type": "stream",
     "text": [
      "The autoreload extension is already loaded. To reload it, use:\n",
      "  %reload_ext autoreload\n"
     ]
    }
   ],
   "source": [
    "%load_ext autoreload\n",
    "%autoreload 2"
   ]
  },
  {
   "cell_type": "markdown",
   "metadata": {},
   "source": [
    "## Detect Natural Breaks in Semantic Similarity\n",
    "By looking at cosine similarity of sliding window"
   ]
  },
  {
   "cell_type": "code",
   "execution_count": 12,
   "metadata": {},
   "outputs": [],
   "source": [
    "model = SentenceTransformer('all-MiniLM-L6-v2')"
   ]
  },
  {
   "cell_type": "code",
   "execution_count": 18,
   "metadata": {},
   "outputs": [],
   "source": [
    "chunks = get_text(r'documents\\1706.03762.pdf')"
   ]
  },
  {
   "cell_type": "code",
   "execution_count": 101,
   "metadata": {},
   "outputs": [],
   "source": [
    "CHUNK_SIZE = 256\n",
    "CHUNK_STEP = 20\n",
    "TOTAL_STEPS = len(chunks)//CHUNK_STEP - CHUNK_SIZE"
   ]
  },
  {
   "cell_type": "code",
   "execution_count": 102,
   "metadata": {},
   "outputs": [],
   "source": [
    "embeddings = []\n",
    "for step in range(1, TOTAL_STEPS):\n",
    "    embedding = model.encode(chunks[(step*CHUNK_STEP):(step*CHUNK_STEP + CHUNK_SIZE)])\n",
    "    embeddings.append(embedding)"
   ]
  },
  {
   "cell_type": "code",
   "execution_count": 90,
   "metadata": {},
   "outputs": [
    {
     "data": {
      "text/html": [
       "<div>\n",
       "<style scoped>\n",
       "    .dataframe tbody tr th:only-of-type {\n",
       "        vertical-align: middle;\n",
       "    }\n",
       "\n",
       "    .dataframe tbody tr th {\n",
       "        vertical-align: top;\n",
       "    }\n",
       "\n",
       "    .dataframe thead th {\n",
       "        text-align: right;\n",
       "    }\n",
       "</style>\n",
       "<table border=\"1\" class=\"dataframe\">\n",
       "  <thead>\n",
       "    <tr style=\"text-align: right;\">\n",
       "      <th></th>\n",
       "      <th>0</th>\n",
       "      <th>1</th>\n",
       "      <th>2</th>\n",
       "      <th>3</th>\n",
       "      <th>4</th>\n",
       "      <th>5</th>\n",
       "      <th>6</th>\n",
       "      <th>7</th>\n",
       "      <th>8</th>\n",
       "      <th>9</th>\n",
       "      <th>...</th>\n",
       "      <th>374</th>\n",
       "      <th>375</th>\n",
       "      <th>376</th>\n",
       "      <th>377</th>\n",
       "      <th>378</th>\n",
       "      <th>379</th>\n",
       "      <th>380</th>\n",
       "      <th>381</th>\n",
       "      <th>382</th>\n",
       "      <th>383</th>\n",
       "    </tr>\n",
       "  </thead>\n",
       "  <tbody>\n",
       "    <tr>\n",
       "      <th>0</th>\n",
       "      <td>0.037227</td>\n",
       "      <td>0.012805</td>\n",
       "      <td>-0.022638</td>\n",
       "      <td>0.016768</td>\n",
       "      <td>-0.016218</td>\n",
       "      <td>-0.030427</td>\n",
       "      <td>-0.057343</td>\n",
       "      <td>0.023535</td>\n",
       "      <td>-0.010573</td>\n",
       "      <td>0.134619</td>\n",
       "      <td>...</td>\n",
       "      <td>-0.042945</td>\n",
       "      <td>-0.006294</td>\n",
       "      <td>0.006760</td>\n",
       "      <td>0.020070</td>\n",
       "      <td>0.042186</td>\n",
       "      <td>0.004084</td>\n",
       "      <td>0.081640</td>\n",
       "      <td>0.004286</td>\n",
       "      <td>-0.000136</td>\n",
       "      <td>-0.006140</td>\n",
       "    </tr>\n",
       "    <tr>\n",
       "      <th>1</th>\n",
       "      <td>0.032583</td>\n",
       "      <td>0.000302</td>\n",
       "      <td>-0.018140</td>\n",
       "      <td>-0.026262</td>\n",
       "      <td>0.028915</td>\n",
       "      <td>0.019402</td>\n",
       "      <td>0.030284</td>\n",
       "      <td>0.045449</td>\n",
       "      <td>0.022516</td>\n",
       "      <td>0.075262</td>\n",
       "      <td>...</td>\n",
       "      <td>-0.032821</td>\n",
       "      <td>0.032022</td>\n",
       "      <td>0.011001</td>\n",
       "      <td>0.041498</td>\n",
       "      <td>-0.034830</td>\n",
       "      <td>-0.020465</td>\n",
       "      <td>0.137792</td>\n",
       "      <td>0.053176</td>\n",
       "      <td>-0.021190</td>\n",
       "      <td>-0.016001</td>\n",
       "    </tr>\n",
       "    <tr>\n",
       "      <th>2</th>\n",
       "      <td>-0.027513</td>\n",
       "      <td>-0.000169</td>\n",
       "      <td>0.040456</td>\n",
       "      <td>-0.033278</td>\n",
       "      <td>-0.049921</td>\n",
       "      <td>0.000453</td>\n",
       "      <td>0.026943</td>\n",
       "      <td>-0.017821</td>\n",
       "      <td>0.002801</td>\n",
       "      <td>0.080308</td>\n",
       "      <td>...</td>\n",
       "      <td>0.020512</td>\n",
       "      <td>0.004511</td>\n",
       "      <td>0.002962</td>\n",
       "      <td>0.024498</td>\n",
       "      <td>0.000193</td>\n",
       "      <td>0.075980</td>\n",
       "      <td>0.146170</td>\n",
       "      <td>0.044894</td>\n",
       "      <td>-0.044321</td>\n",
       "      <td>-0.003762</td>\n",
       "    </tr>\n",
       "    <tr>\n",
       "      <th>3</th>\n",
       "      <td>-0.020789</td>\n",
       "      <td>0.032215</td>\n",
       "      <td>-0.005489</td>\n",
       "      <td>-0.044364</td>\n",
       "      <td>-0.039259</td>\n",
       "      <td>-0.004699</td>\n",
       "      <td>-0.032485</td>\n",
       "      <td>0.032994</td>\n",
       "      <td>0.003700</td>\n",
       "      <td>0.070994</td>\n",
       "      <td>...</td>\n",
       "      <td>0.081309</td>\n",
       "      <td>0.011177</td>\n",
       "      <td>-0.043684</td>\n",
       "      <td>0.066300</td>\n",
       "      <td>-0.051728</td>\n",
       "      <td>0.043815</td>\n",
       "      <td>0.125447</td>\n",
       "      <td>0.075069</td>\n",
       "      <td>-0.068666</td>\n",
       "      <td>-0.017683</td>\n",
       "    </tr>\n",
       "    <tr>\n",
       "      <th>4</th>\n",
       "      <td>-0.016939</td>\n",
       "      <td>0.049805</td>\n",
       "      <td>0.020162</td>\n",
       "      <td>-0.028813</td>\n",
       "      <td>0.015257</td>\n",
       "      <td>-0.008551</td>\n",
       "      <td>-0.021837</td>\n",
       "      <td>0.056009</td>\n",
       "      <td>-0.000278</td>\n",
       "      <td>0.048065</td>\n",
       "      <td>...</td>\n",
       "      <td>0.062297</td>\n",
       "      <td>0.078341</td>\n",
       "      <td>-0.010492</td>\n",
       "      <td>0.088197</td>\n",
       "      <td>-0.037554</td>\n",
       "      <td>0.045761</td>\n",
       "      <td>0.123581</td>\n",
       "      <td>0.009480</td>\n",
       "      <td>-0.071711</td>\n",
       "      <td>-0.008996</td>\n",
       "    </tr>\n",
       "  </tbody>\n",
       "</table>\n",
       "<p>5 rows × 384 columns</p>\n",
       "</div>"
      ],
      "text/plain": [
       "        0         1         2         3         4         5         6    \\\n",
       "0  0.037227  0.012805 -0.022638  0.016768 -0.016218 -0.030427 -0.057343   \n",
       "1  0.032583  0.000302 -0.018140 -0.026262  0.028915  0.019402  0.030284   \n",
       "2 -0.027513 -0.000169  0.040456 -0.033278 -0.049921  0.000453  0.026943   \n",
       "3 -0.020789  0.032215 -0.005489 -0.044364 -0.039259 -0.004699 -0.032485   \n",
       "4 -0.016939  0.049805  0.020162 -0.028813  0.015257 -0.008551 -0.021837   \n",
       "\n",
       "        7         8         9    ...       374       375       376       377  \\\n",
       "0  0.023535 -0.010573  0.134619  ... -0.042945 -0.006294  0.006760  0.020070   \n",
       "1  0.045449  0.022516  0.075262  ... -0.032821  0.032022  0.011001  0.041498   \n",
       "2 -0.017821  0.002801  0.080308  ...  0.020512  0.004511  0.002962  0.024498   \n",
       "3  0.032994  0.003700  0.070994  ...  0.081309  0.011177 -0.043684  0.066300   \n",
       "4  0.056009 -0.000278  0.048065  ...  0.062297  0.078341 -0.010492  0.088197   \n",
       "\n",
       "        378       379       380       381       382       383  \n",
       "0  0.042186  0.004084  0.081640  0.004286 -0.000136 -0.006140  \n",
       "1 -0.034830 -0.020465  0.137792  0.053176 -0.021190 -0.016001  \n",
       "2  0.000193  0.075980  0.146170  0.044894 -0.044321 -0.003762  \n",
       "3 -0.051728  0.043815  0.125447  0.075069 -0.068666 -0.017683  \n",
       "4 -0.037554  0.045761  0.123581  0.009480 -0.071711 -0.008996  \n",
       "\n",
       "[5 rows x 384 columns]"
      ]
     },
     "execution_count": 90,
     "metadata": {},
     "output_type": "execute_result"
    }
   ],
   "source": [
    "df = pd.DataFrame(embeddings)\n",
    "df.head()"
   ]
  },
  {
   "cell_type": "code",
   "execution_count": 91,
   "metadata": {},
   "outputs": [],
   "source": [
    "similarity = [0]\n",
    "for i in range(0, len(df) - 1):\n",
    "    sim = util.cos_sim(df.iloc[i], df.iloc[i+1])\n",
    "    similarity.append(sim.item())\n",
    "df['Similarity Neighbor'] = similarity"
   ]
  },
  {
   "cell_type": "code",
   "execution_count": 100,
   "metadata": {},
   "outputs": [
    {
     "data": {
      "text/plain": [
       "[<matplotlib.lines.Line2D at 0x168a4317eb0>]"
      ]
     },
     "execution_count": 100,
     "metadata": {},
     "output_type": "execute_result"
    },
    {
     "data": {
      "image/png": "[encoded data removed]",
      "text/plain": [
       "<Figure size 640x480 with 1 Axes>"
      ]
     },
     "metadata": {},
     "output_type": "display_data"
    }
   ],
   "source": [
    "plt.plot(df.index, df['Similarity'])"
   ]
  }
 ],
 "metadata": {
  "kernelspec": {
   "display_name": "venv",
   "language": "python",
   "name": "python3"
  },
  "language_info": {
   "codemirror_mode": {
    "name": "ipython",
    "version": 3
   },
   "file_extension": ".py",
   "mimetype": "text/x-python",
   "name": "python",
   "nbconvert_exporter": "python",
   "pygments_lexer": "ipython3",
   "version": "3.10.4"
  },
  "orig_nbformat": 4
 },
 "nbformat": 4,
 "nbformat_minor": 2
}
