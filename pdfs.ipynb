{
 "cells": [
  {
   "cell_type": "markdown",
   "metadata": {},
   "source": [
    "## Intro\n",
    "The key goal is to create a really easy way to create RAG systems from PDF documents.\n",
    "\n",
    "The RAG solution must be really simple for developers to start playing around with.\n",
    "\n",
    "So we're going to be using mongodb and the vector search capability to do this.\n",
    "\n",
    "## Top Goal\n",
    "* Simple RAG System\n",
    "## Steps\n",
    "\n",
    "- Step 1: Extract PDF Content\n",
    "- Step 2: Chunk Content\n",
    "- Step 3: Generate Embedding\n",
    "- Step 4: Search"
   ]
  },
  {
   "cell_type": "code",
   "execution_count": 3,
   "metadata": {},
   "outputs": [],
   "source": [
    "# extracting content using pypdf\n",
    "import pypdf"
   ]
  },
  {
   "cell_type": "code",
   "execution_count": 36,
   "metadata": {},
   "outputs": [],
   "source": [
    "pdf = pypdf.PdfReader(\"./documents/M14-3048 E.pdf\")"
   ]
  },
  {
   "cell_type": "code",
   "execution_count": 37,
   "metadata": {},
   "outputs": [
    {
     "data": {
      "text/plain": [
       "{'/CreationDate': \"D:20120821114723-04'00'\",\n",
       " '/Author': 'Jessica Raum',\n",
       " '/Creator': 'QuarkXPress 9.3',\n",
       " '/Producer': 'Acrobat Distiller 8.3.1 (Macintosh)',\n",
       " '/ModDate': \"D:20120823144038-04'00'\",\n",
       " '/Title': 'HPB-MRFP_PRESS_draft'}"
      ]
     },
     "execution_count": 37,
     "metadata": {},
     "output_type": "execute_result"
    }
   ],
   "source": [
    "## Meta data for time and person\n",
    "pdf.metadata"
   ]
  },
  {
   "cell_type": "code",
   "execution_count": 40,
   "metadata": {},
   "outputs": [],
   "source": [
    "def extract_chunks(path):\n",
    "    pdf = pypdf.PdfReader(\"./documents/M14-3048 E.pdf\")\n",
    "    processed_paragraphs = []\n",
    "    for idx, page in enumerate(pdf.pages):\n",
    "        for image in page.images:\n",
    "            with open(f'{image.name}', 'wb') as file:\n",
    "                file.write(image.data)\n",
    "        text = page.extract_text()\n",
    "        paragraphs = text.split('\\n')\n",
    "        current_paragraph = \"\"\n",
    "        for paragraph in paragraphs:\n",
    "            # add paragraph to list\n",
    "            if len(paragraph) > 500:\n",
    "                processed_paragraphs.append(paragraph)\n",
    "            else:\n",
    "                current_paragraph += '\\n'+ paragraph\n",
    "                if len(current_paragraph) > 500:\n",
    "                    processed_paragraphs.append(current_paragraph)\n",
    "                    current_paragraph = ''\n",
    "    return processed_paragraphs\n"
   ]
  }
 ],
 "metadata": {
  "kernelspec": {
   "display_name": "venv",
   "language": "python",
   "name": "python3"
  },
  "language_info": {
   "codemirror_mode": {
    "name": "ipython",
    "version": 3
   },
   "file_extension": ".py",
   "mimetype": "text/x-python",
   "name": "python",
   "nbconvert_exporter": "python",
   "pygments_lexer": "ipython3",
   "version": "3.10.4"
  },
  "orig_nbformat": 4
 },
 "nbformat": 4,
 "nbformat_minor": 2
}
